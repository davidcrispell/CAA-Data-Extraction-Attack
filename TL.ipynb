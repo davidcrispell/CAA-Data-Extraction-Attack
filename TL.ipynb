{
  "nbformat": 4,
  "nbformat_minor": 0,
  "metadata": {
    "colab": {
      "provenance": [],
      "toc_visible": true,
      "gpuType": "T4",
      "authorship_tag": "ABX9TyOtbUNZ8yjx02ngMeZmRp69",
      "include_colab_link": true
    },
    "kernelspec": {
      "name": "python3",
      "display_name": "Python 3"
    },
    "language_info": {
      "name": "python"
    },
    "widgets": {
      "application/vnd.jupyter.widget-state+json": {
        "8cef28adcbdc4f69bcc0449208fe2dbd": {
          "model_module": "@jupyter-widgets/controls",
          "model_name": "HBoxModel",
          "model_module_version": "1.5.0",
          "state": {
            "_dom_classes": [],
            "_model_module": "@jupyter-widgets/controls",
            "_model_module_version": "1.5.0",
            "_model_name": "HBoxModel",
            "_view_count": null,
            "_view_module": "@jupyter-widgets/controls",
            "_view_module_version": "1.5.0",
            "_view_name": "HBoxView",
            "box_style": "",
            "children": [
              "IPY_MODEL_49b67ba10205459dbfea6180e0ee8202",
              "IPY_MODEL_0600c1bd39cb43278f9e5f37d0db7ee4",
              "IPY_MODEL_48645d15d1d54c909882071c29e558f0"
            ],
            "layout": "IPY_MODEL_6e64d351d1454e3b850afb9d07d70eeb"
          }
        },
        "49b67ba10205459dbfea6180e0ee8202": {
          "model_module": "@jupyter-widgets/controls",
          "model_name": "HTMLModel",
          "model_module_version": "1.5.0",
          "state": {
            "_dom_classes": [],
            "_model_module": "@jupyter-widgets/controls",
            "_model_module_version": "1.5.0",
            "_model_name": "HTMLModel",
            "_view_count": null,
            "_view_module": "@jupyter-widgets/controls",
            "_view_module_version": "1.5.0",
            "_view_name": "HTMLView",
            "description": "",
            "description_tooltip": null,
            "layout": "IPY_MODEL_047f93fb370f4e86ada376df99e54553",
            "placeholder": "​",
            "style": "IPY_MODEL_d530b34c90dc4734bf5f762a8db2a293",
            "value": "Loading checkpoint shards: 100%"
          }
        },
        "0600c1bd39cb43278f9e5f37d0db7ee4": {
          "model_module": "@jupyter-widgets/controls",
          "model_name": "FloatProgressModel",
          "model_module_version": "1.5.0",
          "state": {
            "_dom_classes": [],
            "_model_module": "@jupyter-widgets/controls",
            "_model_module_version": "1.5.0",
            "_model_name": "FloatProgressModel",
            "_view_count": null,
            "_view_module": "@jupyter-widgets/controls",
            "_view_module_version": "1.5.0",
            "_view_name": "ProgressView",
            "bar_style": "success",
            "description": "",
            "description_tooltip": null,
            "layout": "IPY_MODEL_c0f1d9a835334fecbd63cece2e1a933e",
            "max": 7,
            "min": 0,
            "orientation": "horizontal",
            "style": "IPY_MODEL_dd974a58b59b457691d04a3c1b0051c0",
            "value": 7
          }
        },
        "48645d15d1d54c909882071c29e558f0": {
          "model_module": "@jupyter-widgets/controls",
          "model_name": "HTMLModel",
          "model_module_version": "1.5.0",
          "state": {
            "_dom_classes": [],
            "_model_module": "@jupyter-widgets/controls",
            "_model_module_version": "1.5.0",
            "_model_name": "HTMLModel",
            "_view_count": null,
            "_view_module": "@jupyter-widgets/controls",
            "_view_module_version": "1.5.0",
            "_view_name": "HTMLView",
            "description": "",
            "description_tooltip": null,
            "layout": "IPY_MODEL_b1c3f220fc0a47feb6f3713db49bf2d3",
            "placeholder": "​",
            "style": "IPY_MODEL_7c43cb7141a14e469e534dafb4542989",
            "value": " 7/7 [00:03&lt;00:00,  2.31it/s]"
          }
        },
        "6e64d351d1454e3b850afb9d07d70eeb": {
          "model_module": "@jupyter-widgets/base",
          "model_name": "LayoutModel",
          "model_module_version": "1.2.0",
          "state": {
            "_model_module": "@jupyter-widgets/base",
            "_model_module_version": "1.2.0",
            "_model_name": "LayoutModel",
            "_view_count": null,
            "_view_module": "@jupyter-widgets/base",
            "_view_module_version": "1.2.0",
            "_view_name": "LayoutView",
            "align_content": null,
            "align_items": null,
            "align_self": null,
            "border": null,
            "bottom": null,
            "display": null,
            "flex": null,
            "flex_flow": null,
            "grid_area": null,
            "grid_auto_columns": null,
            "grid_auto_flow": null,
            "grid_auto_rows": null,
            "grid_column": null,
            "grid_gap": null,
            "grid_row": null,
            "grid_template_areas": null,
            "grid_template_columns": null,
            "grid_template_rows": null,
            "height": null,
            "justify_content": null,
            "justify_items": null,
            "left": null,
            "margin": null,
            "max_height": null,
            "max_width": null,
            "min_height": null,
            "min_width": null,
            "object_fit": null,
            "object_position": null,
            "order": null,
            "overflow": null,
            "overflow_x": null,
            "overflow_y": null,
            "padding": null,
            "right": null,
            "top": null,
            "visibility": null,
            "width": null
          }
        },
        "047f93fb370f4e86ada376df99e54553": {
          "model_module": "@jupyter-widgets/base",
          "model_name": "LayoutModel",
          "model_module_version": "1.2.0",
          "state": {
            "_model_module": "@jupyter-widgets/base",
            "_model_module_version": "1.2.0",
            "_model_name": "LayoutModel",
            "_view_count": null,
            "_view_module": "@jupyter-widgets/base",
            "_view_module_version": "1.2.0",
            "_view_name": "LayoutView",
            "align_content": null,
            "align_items": null,
            "align_self": null,
            "border": null,
            "bottom": null,
            "display": null,
            "flex": null,
            "flex_flow": null,
            "grid_area": null,
            "grid_auto_columns": null,
            "grid_auto_flow": null,
            "grid_auto_rows": null,
            "grid_column": null,
            "grid_gap": null,
            "grid_row": null,
            "grid_template_areas": null,
            "grid_template_columns": null,
            "grid_template_rows": null,
            "height": null,
            "justify_content": null,
            "justify_items": null,
            "left": null,
            "margin": null,
            "max_height": null,
            "max_width": null,
            "min_height": null,
            "min_width": null,
            "object_fit": null,
            "object_position": null,
            "order": null,
            "overflow": null,
            "overflow_x": null,
            "overflow_y": null,
            "padding": null,
            "right": null,
            "top": null,
            "visibility": null,
            "width": null
          }
        },
        "d530b34c90dc4734bf5f762a8db2a293": {
          "model_module": "@jupyter-widgets/controls",
          "model_name": "DescriptionStyleModel",
          "model_module_version": "1.5.0",
          "state": {
            "_model_module": "@jupyter-widgets/controls",
            "_model_module_version": "1.5.0",
            "_model_name": "DescriptionStyleModel",
            "_view_count": null,
            "_view_module": "@jupyter-widgets/base",
            "_view_module_version": "1.2.0",
            "_view_name": "StyleView",
            "description_width": ""
          }
        },
        "c0f1d9a835334fecbd63cece2e1a933e": {
          "model_module": "@jupyter-widgets/base",
          "model_name": "LayoutModel",
          "model_module_version": "1.2.0",
          "state": {
            "_model_module": "@jupyter-widgets/base",
            "_model_module_version": "1.2.0",
            "_model_name": "LayoutModel",
            "_view_count": null,
            "_view_module": "@jupyter-widgets/base",
            "_view_module_version": "1.2.0",
            "_view_name": "LayoutView",
            "align_content": null,
            "align_items": null,
            "align_self": null,
            "border": null,
            "bottom": null,
            "display": null,
            "flex": null,
            "flex_flow": null,
            "grid_area": null,
            "grid_auto_columns": null,
            "grid_auto_flow": null,
            "grid_auto_rows": null,
            "grid_column": null,
            "grid_gap": null,
            "grid_row": null,
            "grid_template_areas": null,
            "grid_template_columns": null,
            "grid_template_rows": null,
            "height": null,
            "justify_content": null,
            "justify_items": null,
            "left": null,
            "margin": null,
            "max_height": null,
            "max_width": null,
            "min_height": null,
            "min_width": null,
            "object_fit": null,
            "object_position": null,
            "order": null,
            "overflow": null,
            "overflow_x": null,
            "overflow_y": null,
            "padding": null,
            "right": null,
            "top": null,
            "visibility": null,
            "width": null
          }
        },
        "dd974a58b59b457691d04a3c1b0051c0": {
          "model_module": "@jupyter-widgets/controls",
          "model_name": "ProgressStyleModel",
          "model_module_version": "1.5.0",
          "state": {
            "_model_module": "@jupyter-widgets/controls",
            "_model_module_version": "1.5.0",
            "_model_name": "ProgressStyleModel",
            "_view_count": null,
            "_view_module": "@jupyter-widgets/base",
            "_view_module_version": "1.2.0",
            "_view_name": "StyleView",
            "bar_color": null,
            "description_width": ""
          }
        },
        "b1c3f220fc0a47feb6f3713db49bf2d3": {
          "model_module": "@jupyter-widgets/base",
          "model_name": "LayoutModel",
          "model_module_version": "1.2.0",
          "state": {
            "_model_module": "@jupyter-widgets/base",
            "_model_module_version": "1.2.0",
            "_model_name": "LayoutModel",
            "_view_count": null,
            "_view_module": "@jupyter-widgets/base",
            "_view_module_version": "1.2.0",
            "_view_name": "LayoutView",
            "align_content": null,
            "align_items": null,
            "align_self": null,
            "border": null,
            "bottom": null,
            "display": null,
            "flex": null,
            "flex_flow": null,
            "grid_area": null,
            "grid_auto_columns": null,
            "grid_auto_flow": null,
            "grid_auto_rows": null,
            "grid_column": null,
            "grid_gap": null,
            "grid_row": null,
            "grid_template_areas": null,
            "grid_template_columns": null,
            "grid_template_rows": null,
            "height": null,
            "justify_content": null,
            "justify_items": null,
            "left": null,
            "margin": null,
            "max_height": null,
            "max_width": null,
            "min_height": null,
            "min_width": null,
            "object_fit": null,
            "object_position": null,
            "order": null,
            "overflow": null,
            "overflow_x": null,
            "overflow_y": null,
            "padding": null,
            "right": null,
            "top": null,
            "visibility": null,
            "width": null
          }
        },
        "7c43cb7141a14e469e534dafb4542989": {
          "model_module": "@jupyter-widgets/controls",
          "model_name": "DescriptionStyleModel",
          "model_module_version": "1.5.0",
          "state": {
            "_model_module": "@jupyter-widgets/controls",
            "_model_module_version": "1.5.0",
            "_model_name": "DescriptionStyleModel",
            "_view_count": null,
            "_view_module": "@jupyter-widgets/base",
            "_view_module_version": "1.2.0",
            "_view_name": "StyleView",
            "description_width": ""
          }
        }
      }
    },
    "accelerator": "GPU"
  },
  "cells": [
    {
      "cell_type": "markdown",
      "metadata": {
        "id": "view-in-github",
        "colab_type": "text"
      },
      "source": [
        "<a href=\"https://colab.research.google.com/github/davidcrispell/LLM-PC/blob/main/TL.ipynb\" target=\"_parent\"><img src=\"https://colab.research.google.com/assets/colab-badge.svg\" alt=\"Open In Colab\"/></a>"
      ]
    },
    {
      "cell_type": "markdown",
      "source": [
        "#### Setup"
      ],
      "metadata": {
        "id": "OwnVv4uK1UNw"
      }
    },
    {
      "cell_type": "code",
      "source": [
        "!huggingface-cli login"
      ],
      "metadata": {
        "id": "Kjiceh18GlE6"
      },
      "execution_count": null,
      "outputs": []
    },
    {
      "cell_type": "code",
      "execution_count": null,
      "metadata": {
        "collapsed": true,
        "id": "xGjv7x050H4q"
      },
      "outputs": [],
      "source": [
        "    %pip install transformer_lens\n",
        "    %pip install einops\n",
        "    %pip install jaxtyping"
      ]
    },
    {
      "cell_type": "code",
      "source": [
        "import sys\n",
        "import torch as t\n",
        "from torch import Tensor\n",
        "import torch.nn as nn\n",
        "import torch.nn.functional as F\n",
        "from pathlib import Path\n",
        "import numpy as np\n",
        "import einops\n",
        "from jaxtyping import Int, Float\n",
        "import functools\n",
        "from tqdm import tqdm\n",
        "from IPython.display import display\n",
        "from transformer_lens.hook_points import HookPoint\n",
        "from transformer_lens import (\n",
        "    utils,\n",
        "    HookedTransformer,\n",
        "    HookedTransformerConfig,\n",
        "    FactoredMatrix,\n",
        "    ActivationCache,\n",
        ")\n",
        "from transformers import AutoTokenizer, AutoModel, LlamaForCausalLM\n",
        "device = t.device(\"cuda\" if t.cuda.is_available() else \"cpu\")"
      ],
      "metadata": {
        "id": "T_fPOOCm0cTn"
      },
      "execution_count": 2,
      "outputs": []
    },
    {
      "cell_type": "markdown",
      "source": [
        "#### Load model using TransformerLens"
      ],
      "metadata": {
        "id": "jXuC--XU1lsC"
      }
    },
    {
      "cell_type": "code",
      "execution_count": null,
      "metadata": {
        "id": "inV8c7wZ5f41",
        "outputId": "c5c93133-1881-48c4-8d6b-e287d1b44fae",
        "colab": {
          "referenced_widgets": [
            "8cef28adcbdc4f69bcc0449208fe2dbd",
            "49b67ba10205459dbfea6180e0ee8202",
            "0600c1bd39cb43278f9e5f37d0db7ee4",
            "48645d15d1d54c909882071c29e558f0",
            "6e64d351d1454e3b850afb9d07d70eeb",
            "047f93fb370f4e86ada376df99e54553",
            "d530b34c90dc4734bf5f762a8db2a293",
            "c0f1d9a835334fecbd63cece2e1a933e",
            "dd974a58b59b457691d04a3c1b0051c0",
            "b1c3f220fc0a47feb6f3713db49bf2d3",
            "7c43cb7141a14e469e534dafb4542989"
          ],
          "base_uri": "https://localhost:8080/",
          "height": 49
        }
      },
      "outputs": [
        {
          "output_type": "display_data",
          "data": {
            "text/plain": [
              "Loading checkpoint shards:   0%|          | 0/7 [00:00<?, ?it/s]"
            ],
            "application/vnd.jupyter.widget-view+json": {
              "version_major": 2,
              "version_minor": 0,
              "model_id": "8cef28adcbdc4f69bcc0449208fe2dbd"
            }
          },
          "metadata": {}
        }
      ],
      "source": [
        "LLAMA_PATH = \"LLM-PBE/Llama3.1-8b-instruct-LLMPC-Red-Team\"\n",
        "SKELETON_PATH = \"meta-llama/meta-Llama-3-8b-instruct\"\n",
        "\n",
        "tokenizer = AutoTokenizer.from_pretrained(LLAMA_PATH)\n",
        "\n",
        "# We have to seperately load the model through HF first so that we can set the hf_model parameter\n",
        "# when setting up TransformerLens, and load Llama3.1-8b-instruct-LLMPC-Red-Team instead of meta-Llama-3-8b-instruct\n",
        "hf_model = LlamaForCausalLM.from_pretrained(LLAMA_PATH, low_cpu_mem_usage=True)\n",
        "\n",
        "model = HookedTransformer.from_pretrained(\n",
        "    SKELETON_PATH,\n",
        "    hf_model=hf_model,\n",
        "    device=\"cpu\",\n",
        "    fold_ln=False,\n",
        "    center_writing_weights=False,\n",
        "    center_unembed=False\n",
        "    )\n",
        "\n",
        "if t.cuda.is_available():\n",
        "  print(\"Using cuda\")\n",
        "  hf_model = hf_model.to(\"cuda\")\n",
        "  model = model.to(\"cuda\")"
      ]
    },
    {
      "cell_type": "code",
      "source": [
        "model.generate(\"The capital of Germany is\", max_new_tokens=20, temperature=0)"
      ],
      "metadata": {
        "id": "XOtaOk_17MSY"
      },
      "execution_count": null,
      "outputs": []
    },
    {
      "cell_type": "markdown",
      "source": [
        "#### Check that logits are identical for Hugging Face and TL"
      ],
      "metadata": {
        "id": "FNQaOlkkG094"
      }
    },
    {
      "cell_type": "code",
      "source": [
        "prompts = [\n",
        "    \"The capital of Germany is\",\n",
        "    \"2 * 42 = \",\n",
        "    \"My favorite\",\n",
        "    \"aosetuhaosuh aostud aoestuaoentsudhasuh aos tasat naostutshaosuhtnaoe usaho uaotsnhuaosntuhaosntu haouaoshat u saotheu saonuh aoesntuhaosut aosu thaosu thaoustaho usaothusaothuao sutao sutaotduaoetudet uaosthuao uaostuaoeu aostouhsaonh aosnthuaoscnuhaoshkbaoesnit haosuhaoe uasotehusntaosn.p.uo ksoentudhao ustahoeuaso usant.hsa otuhaotsi aostuhs\",\n",
        "]\n",
        "\n",
        "model.eval()\n",
        "hf_model.eval()\n",
        "prompt_ids = [tokenizer.encode(prompt, return_tensors=\"pt\") for prompt in prompts]\n",
        "tl_logits = [model(prompt_ids).detach().cpu() for prompt_ids in tqdm(prompt_ids)]\n",
        "\n",
        "logits = [hf_model(prompt_ids).logits.detach().cpu() for prompt_ids in tqdm(prompt_ids)]\n",
        "\n",
        "for i in range(len(prompts)):\n",
        "    assert t.allclose(logits[i], tl_logits[i], atol=1e-4, rtol=1e-2)"
      ],
      "metadata": {
        "id": "w2iKXALzwlA1"
      },
      "execution_count": null,
      "outputs": []
    }
  ]
}